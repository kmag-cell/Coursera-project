{
 "cells": [
  {
   "cell_type": "markdown",
   "id": "b40102df-12a3-4151-ba45-fa6e5d9e2019",
   "metadata": {},
   "source": [
    "# Data Science Tools and Ecosystem"
   ]
  },
  {
   "cell_type": "markdown",
   "id": "6b6b258a-1672-4c2a-8e4e-9567782a669b",
   "metadata": {},
   "source": [
    "## Introduction"
   ]
  },
  {
   "cell_type": "markdown",
   "id": "5d5ad7f1-cad7-48ec-8a4e-198acaa73e8a",
   "metadata": {},
   "source": [
    "In this notebook, Data Science Tools and Ecosystem are summarized."
   ]
  },
  {
   "cell_type": "markdown",
   "id": "ea8f1ffd-5286-4ca4-bf75-7787f1021ac1",
   "metadata": {},
   "source": [
    "Some of the popular languages that Data Scientists use are:\n",
    "* Python\n",
    "* R"
   ]
  },
  {
   "cell_type": "markdown",
   "id": "152fc1f7-92f0-42c5-afa3-12991a6030e7",
   "metadata": {},
   "source": [
    "Some of the commonly used libraries used by Data Scientists include:\n",
    "* Pandas\n",
    "* Numpy\n",
    "* Matplotlyb\n",
    "* SciPy\n",
    "* \n",
    "PyTorc\n",
    "* \r\n",
    "Seabo\n",
    "* Sparkrn"
   ]
  },
  {
   "cell_type": "markdown",
   "id": "f53347a4-876e-4cd9-9a74-29263f590588",
   "metadata": {},
   "source": [
    "| Data Science Tools |\n",
    "| --- |\n",
    "| Anaconda |\n",
    "| RStudio |\n",
    "| VS Code |"
   ]
  },
  {
   "cell_type": "markdown",
   "id": "04ab8dd5-1c61-42ab-9070-aed6de6d16c1",
   "metadata": {},
   "source": [
    "### Below are a few examples of evaluating arithmetic expressions in Python"
   ]
  },
  {
   "cell_type": "code",
   "execution_count": 4,
   "id": "2bf06a8b-475f-4142-8078-1dc97dc78bbf",
   "metadata": {},
   "outputs": [
    {
     "data": {
      "text/plain": [
       "17"
      ]
     },
     "execution_count": 4,
     "metadata": {},
     "output_type": "execute_result"
    }
   ],
   "source": [
    "#This a simple arithmetic expression to mutiply then add integers.\n",
    "\n",
    "(3*4)+5"
   ]
  },
  {
   "cell_type": "code",
   "execution_count": 6,
   "id": "8a8f43ab-0090-4a44-90a6-9c96405ce386",
   "metadata": {},
   "outputs": [
    {
     "name": "stdout",
     "output_type": "stream",
     "text": [
      "3.3333333333333335\n"
     ]
    }
   ],
   "source": [
    "# This will convert 200 minutes to hours by diving by 60\n",
    "\n",
    "minutes = 200\n",
    "hours = minutes / 60\n",
    "print (hours)"
   ]
  },
  {
   "cell_type": "markdown",
   "id": "1c3decf5-57c9-4d84-be34-aaa77c511ffc",
   "metadata": {},
   "source": [
    "### Objectives:\n",
    "- List popular languages for Data Science\n",
    "- the commonly used libraries used by Data Scientists\n",
    "- How to create a table with a markdown\n",
    "- How calculate with a code"
   ]
  },
  {
   "cell_type": "markdown",
   "id": "e53a94e6-ce97-48c1-bbb2-564bb80768c2",
   "metadata": {},
   "source": [
    "## Author\n",
    "Kadiané Ghislaine"
   ]
  },
  {
   "cell_type": "code",
   "execution_count": null,
   "id": "f10252b2-f0fb-4e64-a74d-013b51b50caa",
   "metadata": {},
   "outputs": [],
   "source": []
  }
 ],
 "metadata": {
  "kernelspec": {
   "display_name": "Python 3 (ipykernel)",
   "language": "python",
   "name": "python3"
  },
  "language_info": {
   "codemirror_mode": {
    "name": "ipython",
    "version": 3
   },
   "file_extension": ".py",
   "mimetype": "text/x-python",
   "name": "python",
   "nbconvert_exporter": "python",
   "pygments_lexer": "ipython3",
   "version": "3.11.7"
  }
 },
 "nbformat": 4,
 "nbformat_minor": 5
}
